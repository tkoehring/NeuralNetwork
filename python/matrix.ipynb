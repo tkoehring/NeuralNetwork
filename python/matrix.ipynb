{
 "cells": [
  {
   "cell_type": "code",
   "execution_count": 138,
   "metadata": {},
   "outputs": [],
   "source": [
    "class matrix:\n",
    "    def __init__(self, vals):\n",
    "        self.vals = vals\n",
    "        self.shape = (len(vals), len(vals[0]))\n",
    "        \n",
    "    def __str__(self):\n",
    "        temp = '['\n",
    "        for i in range(self.shape[0] - 1):\n",
    "            temp += str(self.vals[i])\n",
    "            temp += ', '\n",
    "        temp += str(self.vals[-1])\n",
    "        temp += ']'\n",
    "        return temp\n",
    "    \n",
    "    def __repr__(self):\n",
    "        temp = '['\n",
    "        for i in range(self.shape[0] - 1):\n",
    "            temp += str(self.vals[i])\n",
    "            temp += ', '\n",
    "        temp += str(self.vals[-1])\n",
    "        temp += ']'\n",
    "        return temp\n",
    "    \n",
    "    def __add__(self, rhs):\n",
    "        if(self.shape != rhs.shape):\n",
    "            raise\n",
    "        c = []\n",
    "        for i in range(len(self.shape[0])):\n",
    "            c.append([])\n",
    "            for j in range(len(self.vals[1])):\n",
    "                c[i].append(self.vals[i][j] + rhs.vals[i][j])\n",
    "        return matrix(c)\n",
    "    \n",
    "    def __add__(self, rhs):\n",
    "        if(self.shape != rhs.shape):\n",
    "            raise\n",
    "        c = []\n",
    "        for i in range(len(self.shape[0])):\n",
    "            c.append([])\n",
    "            for j in range(len(self.vals[1])):\n",
    "                c[i].append(self.vals[i][j] - rhs.vals[i][j])\n",
    "        return matrix(c)\n",
    "    \n",
    "    def __mul__(self, rhs):\n",
    "        c = []\n",
    "        for i in range(self.shape[0]):\n",
    "            c.append([])\n",
    "            for j in range(rhs.shape[1]):\n",
    "                c[i].append(0)                \n",
    "                for k in range(self.shape[1]):\n",
    "                    c[i][j] += self.vals[i][k] * rhs.vals[k][j]\n",
    "        return matrix(c)\n",
    "    \n",
    "    def Transpose(self):\n",
    "        c = []\n",
    "        for i in range(self.shape[0]):\n",
    "            c.append([x[i] for x in self.vals])\n",
    "        return matrix(c)\n",
    "            \n",
    "\n",
    "        "
   ]
  },
  {
   "cell_type": "code",
   "execution_count": 139,
   "metadata": {},
   "outputs": [],
   "source": [
    "a = matrix([[1,2],[3,4],[5,6]])\n",
    "b = matrix([[1,2,3],[4,5,6]])\n",
    "c = a * b"
   ]
  },
  {
   "cell_type": "code",
   "execution_count": 140,
   "metadata": {},
   "outputs": [
    {
     "data": {
      "text/plain": [
       "__main__.matrix"
      ]
     },
     "execution_count": 140,
     "metadata": {},
     "output_type": "execute_result"
    }
   ],
   "source": [
    "type(c)"
   ]
  },
  {
   "cell_type": "code",
   "execution_count": 141,
   "metadata": {},
   "outputs": [
    {
     "name": "stdout",
     "output_type": "stream",
     "text": [
      "[[9, 12, 15], [19, 26, 33], [29, 40, 51]]\n"
     ]
    }
   ],
   "source": [
    "print(a * b)"
   ]
  },
  {
   "cell_type": "code",
   "execution_count": 145,
   "metadata": {},
   "outputs": [
    {
     "name": "stdout",
     "output_type": "stream",
     "text": [
      "[[9, 19, 29], [12, 26, 40], [15, 33, 51]]\n",
      "[[9, 19, 29], [12, 26, 40], [15, 33, 51]]\n"
     ]
    }
   ],
   "source": [
    "print(c.Transpose())"
   ]
  },
  {
   "cell_type": "code",
   "execution_count": null,
   "metadata": {},
   "outputs": [],
   "source": []
  }
 ],
 "metadata": {
  "kernelspec": {
   "display_name": "Python 3",
   "language": "python",
   "name": "python3"
  },
  "language_info": {
   "codemirror_mode": {
    "name": "ipython",
    "version": 3
   },
   "file_extension": ".py",
   "mimetype": "text/x-python",
   "name": "python",
   "nbconvert_exporter": "python",
   "pygments_lexer": "ipython3",
   "version": "3.7.4"
  }
 },
 "nbformat": 4,
 "nbformat_minor": 2
}
