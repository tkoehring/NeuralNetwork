{
 "cells": [
  {
   "cell_type": "code",
   "execution_count": 18,
   "metadata": {},
   "outputs": [
    {
     "ename": "ModuleNotFoundError",
     "evalue": "No module named 'matrix'",
     "output_type": "error",
     "traceback": [
      "\u001b[0;31m---------------------------------------------------------------------------\u001b[0m",
      "\u001b[0;31mModuleNotFoundError\u001b[0m                       Traceback (most recent call last)",
      "\u001b[0;32m<ipython-input-18-16aef386ecab>\u001b[0m in \u001b[0;36m<module>\u001b[0;34m()\u001b[0m\n\u001b[1;32m      1\u001b[0m \u001b[0;32mfrom\u001b[0m \u001b[0mactivation\u001b[0m \u001b[0;32mimport\u001b[0m \u001b[0;34m*\u001b[0m\u001b[0;34m\u001b[0m\u001b[0;34m\u001b[0m\u001b[0m\n\u001b[0;32m----> 2\u001b[0;31m \u001b[0;32mfrom\u001b[0m \u001b[0mmatrix\u001b[0m \u001b[0;32mimport\u001b[0m \u001b[0;34m*\u001b[0m\u001b[0;34m\u001b[0m\u001b[0;34m\u001b[0m\u001b[0m\n\u001b[0m\u001b[1;32m      3\u001b[0m \u001b[0;34m\u001b[0m\u001b[0m\n\u001b[1;32m      4\u001b[0m \u001b[0;32mclass\u001b[0m \u001b[0mnetwork\u001b[0m\u001b[0;34m:\u001b[0m\u001b[0;34m\u001b[0m\u001b[0;34m\u001b[0m\u001b[0m\n\u001b[1;32m      5\u001b[0m     \u001b[0;32mdef\u001b[0m \u001b[0m__init__\u001b[0m\u001b[0;34m(\u001b[0m\u001b[0mself\u001b[0m\u001b[0;34m)\u001b[0m\u001b[0;34m:\u001b[0m\u001b[0;34m\u001b[0m\u001b[0;34m\u001b[0m\u001b[0m\n",
      "\u001b[0;31mModuleNotFoundError\u001b[0m: No module named 'matrix'"
     ]
    }
   ],
   "source": [
    "from activation import *\n",
    "from matrix import *\n",
    "\n",
    "class network:\n",
    "    def __init__(self):\n",
    "        self.layers = []\n",
    "        self.activation = []\n",
    "        self.weights = []\n",
    "        self.bias = []\n",
    "   \n",
    "    def add_layer(self, n, activation=linear, input_dim=0):\n",
    "        if(input_dim > 0):\n",
    "            self.activation.append(activation)\n",
    "            self.bias.append(1)\n",
    "            self.weights.append([[1] * n]*input_dim)\n",
    "            self.layers.append([0]*n)\n",
    "        else:\n",
    "            self.activation.append(activation)\n",
    "            self.bias.append([1]*n)\n",
    "            self.weights.append([([1] * n)*len(self.layers[-1])])\n",
    "            self.layers.append([0]*n)            \n",
    "    \n",
    "    def feed_forward(self, data):        \n",
    "        #First layer with input data\n",
    "        for i in range(len(self.layers[0])):\n",
    "            temp = 0\n",
    "            for j in range(len(self.weights[0][0])):\n",
    "                temp += data[i] * self.weights[0][i][j]\n",
    "                \n",
    "            self.layers[0][i] = self.activation[0](temp + self.bias[0][i])\n",
    "            \n",
    "        for i in range(1, len(self.layers)):\n",
    "            n = len(self.layers[i])\n",
    "            for j in range(n):\n",
    "                temp = 0\n",
    "                for k in range(n):\n",
    "                    temp += self.layers[i - 1][j] * self.weights[i][j][k]\n",
    "                self.layers[i][j] = self.activation[i](temp + self.bias[i][j])\n",
    "    \n",
    "    def fit(self, data, response):\n",
    "        feed_forward(data)\n",
    "        yHat = self.layers[-1]\n",
    "        dldb = [response - yHat]\n",
    "        dldw = [outer_product(dldb[0], self.layers[-1])]\n",
    "        \n",
    "    def print_network(self):\n",
    "        print(\"Current Network:\")\n",
    "        for i in range(len(self.layers)):\n",
    "            print(\"Layer {}\".format(i))\n",
    "            print(self.layers[i])\n",
    "            print(\"Weight Matrix {}\".format(i))\n",
    "            print(self.weights[i])\n",
    "            print(\"Bias {}\".format(i))\n",
    "            print(self.bias[i])\n",
    "        \n",
    "def outer_product(a, b):\n",
    "    c = []\n",
    "    for i in range(len(b)):\n",
    "        c.append([x*b[i] for x in a])\n",
    "    return c\n",
    "    "
   ]
  },
  {
   "cell_type": "code",
   "execution_count": 6,
   "metadata": {},
   "outputs": [
    {
     "name": "stdout",
     "output_type": "stream",
     "text": [
      "Current Network:\n",
      "Layer 0\n",
      "[0, 0, 0, 0, 0, 0, 0, 0, 0, 0]\n",
      "Weight Matrix 0\n",
      "[[1, 1, 1, 1, 1, 1, 1, 1, 1, 1], [1, 1, 1, 1, 1, 1, 1, 1, 1, 1], [1, 1, 1, 1, 1, 1, 1, 1, 1, 1], [1, 1, 1, 1, 1, 1, 1, 1, 1, 1], [1, 1, 1, 1, 1, 1, 1, 1, 1, 1], [1, 1, 1, 1, 1, 1, 1, 1, 1, 1], [1, 1, 1, 1, 1, 1, 1, 1, 1, 1], [1, 1, 1, 1, 1, 1, 1, 1, 1, 1], [1, 1, 1, 1, 1, 1, 1, 1, 1, 1], [1, 1, 1, 1, 1, 1, 1, 1, 1, 1]]\n",
      "Bias 0\n",
      "1\n",
      "Layer 1\n",
      "[0]\n",
      "Weight Matrix 1\n",
      "[[1, 1, 1, 1, 1, 1, 1, 1, 1, 1]]\n",
      "Bias 1\n",
      "1\n",
      "Current Network:\n",
      "Layer 0\n",
      "[0.9999999994421064, 0.9999999994421064, 0.9999999994421064, 0.9999999994421064, 0.9999999994421064, 0.9999999994421064, 0.9999999994421064, 0.9999999994421064, 0.9999999994421064, 0.9999999994421064]\n",
      "Weight Matrix 0\n",
      "[[1, 1, 1, 1, 1, 1, 1, 1, 1, 1], [1, 1, 1, 1, 1, 1, 1, 1, 1, 1], [1, 1, 1, 1, 1, 1, 1, 1, 1, 1], [1, 1, 1, 1, 1, 1, 1, 1, 1, 1], [1, 1, 1, 1, 1, 1, 1, 1, 1, 1], [1, 1, 1, 1, 1, 1, 1, 1, 1, 1], [1, 1, 1, 1, 1, 1, 1, 1, 1, 1], [1, 1, 1, 1, 1, 1, 1, 1, 1, 1], [1, 1, 1, 1, 1, 1, 1, 1, 1, 1], [1, 1, 1, 1, 1, 1, 1, 1, 1, 1]]\n",
      "Bias 0\n",
      "1\n",
      "Layer 1\n",
      "[1.9999999994421063]\n",
      "Weight Matrix 1\n",
      "[[1, 1, 1, 1, 1, 1, 1, 1, 1, 1]]\n",
      "Bias 1\n",
      "1\n"
     ]
    }
   ],
   "source": [
    "data = [1,1,1,1,1,1,1,1,1,1]\n",
    "nn = network()\n",
    "nn.add_layer(10, activation=tanh, input_dim=10)\n",
    "nn.add_layer(1)\n",
    "nn.print_network()\n",
    "nn.fit(data)\n",
    "nn.print_network()"
   ]
  },
  {
   "cell_type": "code",
   "execution_count": 13,
   "metadata": {},
   "outputs": [],
   "source": []
  },
  {
   "cell_type": "code",
   "execution_count": 14,
   "metadata": {},
   "outputs": [
    {
     "name": "stdout",
     "output_type": "stream",
     "text": [
      "[[1, 2, 3], [2, 4, 6], [3, 6, 9]]\n"
     ]
    }
   ],
   "source": [
    "a = [1, 2, 3]\n",
    "b = [1, 2, 3]\n",
    "\n",
    "print(outer_product(a, b))"
   ]
  },
  {
   "cell_type": "code",
   "execution_count": 17,
   "metadata": {},
   "outputs": [
    {
     "name": "stdout",
     "output_type": "stream",
     "text": [
      "10\n",
      "9\n",
      "8\n",
      "7\n",
      "6\n",
      "5\n",
      "4\n",
      "3\n",
      "2\n"
     ]
    }
   ],
   "source": [
    "for i in range(10, 1,-1):\n",
    "    print(i)"
   ]
  }
 ],
 "metadata": {
  "kernelspec": {
   "display_name": "Python 3",
   "language": "python",
   "name": "python3"
  },
  "language_info": {
   "codemirror_mode": {
    "name": "ipython",
    "version": 3
   },
   "file_extension": ".py",
   "mimetype": "text/x-python",
   "name": "python",
   "nbconvert_exporter": "python",
   "pygments_lexer": "ipython3",
   "version": "3.7.4"
  }
 },
 "nbformat": 4,
 "nbformat_minor": 2
}
