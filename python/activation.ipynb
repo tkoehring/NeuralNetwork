{
 "cells": [
  {
   "cell_type": "code",
   "execution_count": 3,
   "metadata": {},
   "outputs": [],
   "source": [
    "## Acticvation Functions ##\n",
    "import math\n",
    "\n",
    "def linear(val):\n",
    "    return val\n",
    "\n",
    "def tanh(val):\n",
    "    return (exp(2*val) - 1) / (exp(2*val) + 1)\n",
    "\n",
    "def relu(val):\n",
    "    if(val > 0):\n",
    "        return val\n",
    "    else:\n",
    "        return 0\n",
    "    \n",
    "def sigmoid(val):\n",
    "    return exp(val) / (exp(val) + 1)\n",
    "\n",
    "## Derivative of Activation Functions ##\n",
    "\n",
    "def linear_d(val):\n",
    "    return 1\n",
    "\n",
    "def tanh_d(val):\n",
    "    1 - tanh(val)**2\n",
    "    \n",
    "def relu_d(val):\n",
    "    if(val < 0):\n",
    "        return 0\n",
    "    else:\n",
    "        return 1\n",
    "\n",
    "def sigmoid_d(val):\n",
    "    return sigmoid(val)*(1 - sigmoid(val))"
   ]
  }
 ],
 "metadata": {
  "kernelspec": {
   "display_name": "Python 3",
   "language": "python",
   "name": "python3"
  },
  "language_info": {
   "codemirror_mode": {
    "name": "ipython",
    "version": 3
   },
   "file_extension": ".py",
   "mimetype": "text/x-python",
   "name": "python",
   "nbconvert_exporter": "python",
   "pygments_lexer": "ipython3",
   "version": "3.7.4"
  }
 },
 "nbformat": 4,
 "nbformat_minor": 2
}
