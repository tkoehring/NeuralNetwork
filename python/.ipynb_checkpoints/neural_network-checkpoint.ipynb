{
 "cells": [
  {
   "cell_type": "code",
   "execution_count": 89,
   "metadata": {},
   "outputs": [],
   "source": [
    "class network:\n",
    "    def __init__(self):\n",
    "        self.layers = []\n",
    "        self.activation = []\n",
    "        self.weights = []\n",
    "        self.bias = []\n",
    "   \n",
    "    def add_layer(self, n, activation=linear, input_dim=0):\n",
    "        if(input_dim > 0):\n",
    "            self.activation.append(activation)\n",
    "            self.bias.append(1)\n",
    "            self.weights.append([[1] * n]*input_dim)\n",
    "            self.layers.append([0]*n)\n",
    "        else:\n",
    "            self.activation.append(activation)\n",
    "            self.bias.append(1)\n",
    "            self.weights.append([([1] * n)*len(self.layers[-1])])\n",
    "            self.layers.append([0]*n)            \n",
    "    \n",
    "    def fit(self, data):        \n",
    "        #First layer with input data\n",
    "        for i in range(len(self.layers[0])):\n",
    "            temp = 0\n",
    "            for j in range(len(self.weights[0][0])):\n",
    "                temp += data[i] * self.weights[0][i][j]\n",
    "                \n",
    "            self.layers[0][i] = self.activation[0](temp + self.bias[0])\n",
    "            \n",
    "        for i in range(1, len(self.layers)):\n",
    "            n = len(self.layers[i])\n",
    "            for j in range(n):\n",
    "                temp = 0\n",
    "                for k in range(n):\n",
    "                    temp += self.layers[i - 1][j] * self.weights[i][j][k]\n",
    "                self.layers[i][j] = self.activation[i](temp + self.bias[i])\n",
    "\n",
    "    def print_network(self):\n",
    "        print(\"Current Network:\")\n",
    "        for i in range(len(self.layers)):\n",
    "            print(\"Layer {}\".format(i))\n",
    "            print(self.layers[i])\n",
    "            print(\"Weight Matrix {}\".format(i))\n",
    "            print(self.weights[i])\n",
    "            print(\"Bias {}\".format(i))\n",
    "            print(self.bias[i])\n",
    "        \n",
    "def linear(val):\n",
    "    return val"
   ]
  },
  {
   "cell_type": "code",
   "execution_count": 90,
   "metadata": {},
   "outputs": [
    {
     "name": "stdout",
     "output_type": "stream",
     "text": [
      "Current Network:\n",
      "Layer 0\n",
      "[0, 0, 0, 0, 0, 0, 0, 0, 0, 0]\n",
      "Weight Matrix 0\n",
      "[[1, 1, 1, 1, 1, 1, 1, 1, 1, 1], [1, 1, 1, 1, 1, 1, 1, 1, 1, 1], [1, 1, 1, 1, 1, 1, 1, 1, 1, 1], [1, 1, 1, 1, 1, 1, 1, 1, 1, 1], [1, 1, 1, 1, 1, 1, 1, 1, 1, 1], [1, 1, 1, 1, 1, 1, 1, 1, 1, 1], [1, 1, 1, 1, 1, 1, 1, 1, 1, 1], [1, 1, 1, 1, 1, 1, 1, 1, 1, 1], [1, 1, 1, 1, 1, 1, 1, 1, 1, 1], [1, 1, 1, 1, 1, 1, 1, 1, 1, 1]]\n",
      "Bias 0\n",
      "1\n",
      "Layer 1\n",
      "[0]\n",
      "Weight Matrix 1\n",
      "[[1, 1, 1, 1, 1, 1, 1, 1, 1, 1]]\n",
      "Bias 1\n",
      "1\n",
      "Current Network:\n",
      "Layer 0\n",
      "[11, 11, 11, 11, 11, 11, 11, 11, 11, 11]\n",
      "Weight Matrix 0\n",
      "[[1, 1, 1, 1, 1, 1, 1, 1, 1, 1], [1, 1, 1, 1, 1, 1, 1, 1, 1, 1], [1, 1, 1, 1, 1, 1, 1, 1, 1, 1], [1, 1, 1, 1, 1, 1, 1, 1, 1, 1], [1, 1, 1, 1, 1, 1, 1, 1, 1, 1], [1, 1, 1, 1, 1, 1, 1, 1, 1, 1], [1, 1, 1, 1, 1, 1, 1, 1, 1, 1], [1, 1, 1, 1, 1, 1, 1, 1, 1, 1], [1, 1, 1, 1, 1, 1, 1, 1, 1, 1], [1, 1, 1, 1, 1, 1, 1, 1, 1, 1]]\n",
      "Bias 0\n",
      "1\n",
      "Layer 1\n",
      "[12]\n",
      "Weight Matrix 1\n",
      "[[1, 1, 1, 1, 1, 1, 1, 1, 1, 1]]\n",
      "Bias 1\n",
      "1\n"
     ]
    }
   ],
   "source": [
    "data = [1,1,1,1,1,1,1,1,1,1]\n",
    "nn = network()\n",
    "nn.add_layer(10, input_dim=10)\n",
    "nn.add_layer(1)\n",
    "nn.print_network()\n",
    "nn.fit(data)\n",
    "nn.print_network()"
   ]
  },
  {
   "cell_type": "code",
   "execution_count": null,
   "metadata": {},
   "outputs": [],
   "source": []
  },
  {
   "cell_type": "code",
   "execution_count": null,
   "metadata": {},
   "outputs": [],
   "source": []
  }
 ],
 "metadata": {
  "kernelspec": {
   "display_name": "Python 3",
   "language": "python",
   "name": "python3"
  },
  "language_info": {
   "codemirror_mode": {
    "name": "ipython",
    "version": 2
   },
   "file_extension": ".py",
   "mimetype": "text/x-python",
   "name": "python",
   "nbconvert_exporter": "python",
   "pygments_lexer": "ipython2",
   "version": "2.7.15+"
  }
 },
 "nbformat": 4,
 "nbformat_minor": 2
}
